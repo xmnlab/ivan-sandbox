{
 "cells": [
  {
   "cell_type": "markdown",
   "metadata": {},
   "source": [
    "# 1.1 Billion Taxi Rides using OmniSciDB and a MacBook Pro\n",
    "\n",
    "At 2020 July 1st, Mark Litwintschik, posted a very exciting [blog](https://tech.marksblogg.com/omnisci-macos-macbookpro-mbp.html) about using OmniSciDB on a MacBook Pro for handling 1.1 billion taxi rides! Motivated by this blog post, we were wondering: how it would looks like if it was using [Ibis-framework](ibis-project.org)?\n",
    "\n",
    "So lets start and check the Mark Litwintschik's blog post."
   ]
  },
  {
   "cell_type": "markdown",
   "metadata": {},
   "source": [
    "The blog post aimed to show how to use [OmniSciDB](https://www.omnisci.com/) on a MacBook Pro for handling 1.1 billion taxi rides.\n",
    "\n",
    "The current work used <... DESCRIBE THE COMPUTER CONFIGURATION ...>.\n",
    "\n",
    "## Setup\n",
    "\n",
    "The dataset used is a 56 GZIP-compressed CSV files that are 104 GB when compressed and need 500 GB of space when decompressed. For more information check [The Billion Taxi Rides in Redshift](https://tech.marksblogg.com/billion-nyc-taxi-rides-redshift.html) blog post.\n",
    "\n",
    "<... ADD SOME INFORMATION ABOUT THE OMNISCIDB CONFIGURATION ... >\n",
    "\n",
    "Also, check the [original blog post](https://tech.marksblogg.com/omnisci-macos-macbookpro-mbp.html) for more information about how to setup the Operation System and OmniSciDB configuration.\n",
    "\n",
    "## Ibis Framework\n",
    "\n",
    "Ibis Framework is a library that implements a similar API provided by pandas for handling database data using expressions. Handling expression instead of handling data directly is very powerful because it allows compound complex expression using just a lit bit of the memory and, when the expression is ready, Ibis compiles that expression (Ibis expression) into a Backend expression, a `SQL` statement for example."
   ]
  }
 ],
 "metadata": {
  "kernelspec": {
   "display_name": "Python 3",
   "language": "python",
   "name": "python3"
  },
  "language_info": {
   "codemirror_mode": {
    "name": "ipython",
    "version": 3
   },
   "file_extension": ".py",
   "mimetype": "text/x-python",
   "name": "python",
   "nbconvert_exporter": "python",
   "pygments_lexer": "ipython3",
   "version": "3.7.6"
  }
 },
 "nbformat": 4,
 "nbformat_minor": 4
}
