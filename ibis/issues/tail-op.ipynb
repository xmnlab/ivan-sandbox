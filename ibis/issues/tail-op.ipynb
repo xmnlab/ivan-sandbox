{
 "cells": [
  {
   "cell_type": "code",
   "execution_count": 2,
   "metadata": {},
   "outputs": [],
   "source": [
    "import ibis"
   ]
  },
  {
   "cell_type": "code",
   "execution_count": 4,
   "metadata": {},
   "outputs": [],
   "source": [
    "client = ibis.omniscidb.connect(\n",
    "    user=\"mapd\", \n",
    "    password=\"HyperInteractive\", \n",
    "    host=\"metis.mapd.com\", \n",
    "    database=\"mapd\", \n",
    "    port=443, \n",
    "    protocol='https'\n",
    ")"
   ]
  },
  {
   "cell_type": "code",
   "execution_count": 7,
   "metadata": {},
   "outputs": [
    {
     "data": {
      "text/plain": [
       "'5.4.0rc9-20200904-fe58309810'"
      ]
     },
     "execution_count": 7,
     "metadata": {},
     "output_type": "execute_result"
    }
   ],
   "source": [
    "client.con._client.get_version()"
   ]
  },
  {
   "cell_type": "code",
   "execution_count": 49,
   "metadata": {},
   "outputs": [],
   "source": [
    "votes = client5.table('demo_vote_clean').sort_by('NAME').head(500)\n",
    "df = votes.execute()"
   ]
  },
  {
   "cell_type": "code",
   "execution_count": 51,
   "metadata": {},
   "outputs": [
    {
     "name": "stdout",
     "output_type": "stream",
     "text": [
      "  StateAbb     Obama\n",
      "0       PA  0.489484\n",
      "    StateAbb     Obama\n",
      "499       IL  0.378898\n"
     ]
    }
   ],
   "source": [
    "print(df[['StateAbb', 'Obama']].head(1))\n",
    "print(df[['StateAbb', 'Obama']].tail(1))"
   ]
  },
  {
   "cell_type": "code",
   "execution_count": 60,
   "metadata": {},
   "outputs": [
    {
     "name": "stdout",
     "output_type": "stream",
     "text": [
      "  StateAbb     Obama\n",
      "0       PA  0.427441\n"
     ]
    }
   ],
   "source": [
    "print(votes.head(1)[['StateAbb', 'Obama']].execute())"
   ]
  },
  {
   "cell_type": "code",
   "execution_count": 62,
   "metadata": {},
   "outputs": [
    {
     "name": "stdout",
     "output_type": "stream",
     "text": [
      "  StateAbb     Obama\n",
      "0       IL  0.378898\n"
     ]
    }
   ],
   "source": [
    "print(votes.limit(499, 1)[['StateAbb', 'Obama']].execute())"
   ]
  }
 ],
 "metadata": {
  "kernelspec": {
   "display_name": "Python 3",
   "language": "python",
   "name": "python3"
  },
  "language_info": {
   "codemirror_mode": {
    "name": "ipython",
    "version": 3
   },
   "file_extension": ".py",
   "mimetype": "text/x-python",
   "name": "python",
   "nbconvert_exporter": "python",
   "pygments_lexer": "ipython3",
   "version": "3.7.6"
  }
 },
 "nbformat": 4,
 "nbformat_minor": 4
}
