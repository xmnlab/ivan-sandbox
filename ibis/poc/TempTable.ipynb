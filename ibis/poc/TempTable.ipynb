{
 "cells": [
  {
   "cell_type": "markdown",
   "metadata": {},
   "source": [
    "# Temp table\n",
    "\n",
    "## Original comments\n",
    "\n",
    "see https://github.com/ibis-project/ibis/issues/2339\n",
    "\n",
    "marianoteehan commented on Aug 18\n",
    "\n",
    ">\n",
    "> A common pattern for me is to build up a SQL expression, execute it against the database backend and save the results as a database table. I think it's not currently possible to do this entirely in Ibis? What I generally do is compile the expression to SQL and then execute that using either the BigQuery web interface or the Python client, both of which have options to save the query as a table. It would be really nice if I could do all of this without leaving Ibis.\n",
    "> \n",
    "> Some other things I often do:\n",
    "> \n",
    "> List datasets (Ibis does this)\n",
    "> List tables (Ibis does this)\n",
    "> Create and delete tables and datasets\n",
    "> Execute queries and save the results directly as files on GCS or local disk\n",
    "> Copy tables to local disk or Google Cloud Storage, e.g. as CSV, Avro, etc\n",
    "> Upload CSV files or dataframes to database tables\n",
    "> I realize this stuff is potentially out of scope, but just thought I'd ask. So far I end up writing a wrapper library around Ibis to do all of this but it strikes me that it could fit really nicely in the main Ibis project. I think some of the Blaze project was focused on use cases like this and I > think maybe there's a gap here.\n",
    "\n",
    "\n",
    "niviksha commented on Aug 26\n",
    "\n",
    ">\n",
    "> this is an interesting request - I'd asked for something similar where any expr.execute could support an as parameter, which would leverage the underlying engine's support create table (or even the select ...INTO variant supported by sql server and the like)\n",
    "> \n",
    "> so something like\n",
    "> \n",
    "> expr.execute(as='newTable', temp=True)\n",
    "> \n",
    "> Bumping this up - It would be great to add the ability to do this esp for OmniSciDB but any backend that supports temporary tables( cc @xmnlab ) - one common pattern I have to run an ibis expression and use that materialized result for the next set of Ibis expressions.\n",
    "> \n",
    "> The big advantage of this, is that it allows potentially large intermediate result sets not to have to return client-side, esp if temp tables are supported by the backend - i.e the materialization is controllable by the user via this option\n",
    "> \n",
    "> e.g. something like\n",
    "> \n",
    "> expr1 = t.groupby(t.a).aggregate(t.count().name('ct'))\n",
    "result = expr1.execute(as='newTable', temp=True) #this would return a TableExpr wrapping 'newTable'\n",
    "result.filter(ct > 500) #...etc\n",
    "> \n",
    "> #we could even chain this\n",
    "> result = expr1.execute(as='newTable', temp=True).filter(ct>500)"
   ]
  },
  {
   "cell_type": "code",
   "execution_count": null,
   "metadata": {},
   "outputs": [],
   "source": []
  },
  {
   "cell_type": "markdown",
   "metadata": {},
   "source": [
    "OmniSci temporary table\n",
    "\n",
    "CREATE [TEMPORARY] TABLE [IF NOT EXISTS] <table>\n",
    "  (<column> <type> [NOT NULL] [DEFAULT <value>] [ENCODING <encodingSpec>],\n",
    "  [SHARD KEY (<column>)],\n",
    "  [SHARED DICTIONARY (<column>) REFERENCES <table>(<column>)], ...)\n",
    "  [WITH (<property> = value, ...)]\n",
    "    \n",
    "    "
   ]
  },
  {
   "cell_type": "code",
   "execution_count": 1,
   "metadata": {},
   "outputs": [],
   "source": [
    "# https://github.com/ibis-project/ibis/pull/2112\n",
    "from typing import Dict, Optional\n",
    "import ibis\n",
    "import pandas as pd"
   ]
  },
  {
   "cell_type": "code",
   "execution_count": 2,
   "metadata": {},
   "outputs": [
    {
     "data": {
      "text/plain": [
       "['omnisci_states',\n",
       " 'omnisci_counties',\n",
       " 'omnisci_countries',\n",
       " 'omnisci_states_tmp']"
      ]
     },
     "execution_count": 2,
     "metadata": {},
     "output_type": "execute_result"
    }
   ],
   "source": [
    "db_conf = dict(\n",
    "    host='localhost', port='6274', \n",
    "    user='admin', password='HyperInteractive', \n",
    "    database='omnisci'\n",
    ")\n",
    "con = ibis.omniscidb.connect(**db_conf)\n",
    "\n",
    "con.list_tables()"
   ]
  },
  {
   "cell_type": "code",
   "execution_count": 3,
   "metadata": {},
   "outputs": [
    {
     "name": "stdout",
     "output_type": "stream",
     "text": [
      "Help on method create_table in module ibis.backends.omniscidb.client:\n",
      "\n",
      "create_table(table_name: str, obj: Union[ibis.expr.types.TableExpr, pandas.core.frame.DataFrame, NoneType] = None, schema: Union[ibis.expr.schema.Schema, NoneType] = None, database: Union[str, NoneType] = None, max_rows: Union[int, NoneType] = None, fragment_size: Union[int, NoneType] = None, is_temporary: bool = False, **kwargs) method of ibis.backends.omniscidb.client.OmniSciDBClient instance\n",
      "    Create a new table from an Ibis table expression.\n",
      "    \n",
      "    Parameters\n",
      "    ----------\n",
      "    table_name : string\n",
      "    obj : ibis.expr.types.TableExpr or pandas.DataFrame, optional\n",
      "      If passed, creates table from select statement results\n",
      "    schema : ibis.Schema, optional\n",
      "    table_name : str\n",
      "    obj : TableExpr or pandas.DataFrame, optional, default None\n",
      "      If passed, creates table from select statement results.\n",
      "    schema : ibis.Schema, optional, default None\n",
      "      Mutually exclusive with expr, creates an empty table with a\n",
      "      particular schema\n",
      "    database : str, optional, default None\n",
      "    max_rows : int, optional, default None\n",
      "      Set the maximum number of rows allowed in a table to create a capped\n",
      "      collection. When this limit is reached, the oldest fragment is\n",
      "      removed.\n",
      "    fragment_size: int, optional,\n",
      "      default 32000000 if gpu_device is enabled otherwise 5000000\n",
      "      Number of rows per fragment that is a unit of the table for query\n",
      "      processing, which is not expected to be changed.\n",
      "    is_temporary : bool, default False\n",
      "        If True it the table will be created as temporary.\n",
      "    \n",
      "    Examples\n",
      "    --------\n",
      "    >>> con.create_table('new_table_name', table_expr)  # doctest: +SKIP\n",
      "\n"
     ]
    }
   ],
   "source": [
    "help(con.create_table)"
   ]
  },
  {
   "cell_type": "code",
   "execution_count": 4,
   "metadata": {},
   "outputs": [
    {
     "name": "stdout",
     "output_type": "stream",
     "text": [
      "CREATE TABLE omnisci_states_tmp\n",
      "AS (\n",
      "SELECT \"id\", \"abbr\", \"name\"\n",
      "FROM omnisci_states\n",
      ")\n"
     ]
    },
    {
     "ename": "Exception",
     "evalue": "'NoneType' object has no attribute 'strip': None",
     "output_type": "error",
     "traceback": [
      "\u001b[0;31m-------------------------------------------------\u001b[0m",
      "\u001b[0;31mAttributeError\u001b[0m  Traceback (most recent call last)",
      "\u001b[0;32m/mnt/sda1/storage/dev/quansight/ibis-project/ibis/ibis/backends/omniscidb/client.py\u001b[0m in \u001b[0;36m_execute\u001b[0;34m(self, query, results, ipc, gpu_device, **kwargs)\u001b[0m\n\u001b[1;32m    845\u001b[0m         \u001b[0;32mtry\u001b[0m\u001b[0;34m:\u001b[0m\u001b[0;34m\u001b[0m\u001b[0;34m\u001b[0m\u001b[0m\n\u001b[0;32m--> 846\u001b[0;31m             \u001b[0mresult\u001b[0m \u001b[0;34m=\u001b[0m \u001b[0mcursor\u001b[0m\u001b[0;34m(\u001b[0m\u001b[0mexecute\u001b[0m\u001b[0;34m(\u001b[0m\u001b[0mquery\u001b[0m\u001b[0;34m,\u001b[0m \u001b[0;34m**\u001b[0m\u001b[0mparams\u001b[0m\u001b[0;34m)\u001b[0m\u001b[0;34m)\u001b[0m\u001b[0;34m\u001b[0m\u001b[0;34m\u001b[0m\u001b[0m\n\u001b[0m\u001b[1;32m    847\u001b[0m         \u001b[0;32mexcept\u001b[0m \u001b[0mException\u001b[0m \u001b[0;32mas\u001b[0m \u001b[0me\u001b[0m\u001b[0;34m:\u001b[0m\u001b[0;34m\u001b[0m\u001b[0;34m\u001b[0m\u001b[0m\n",
      "\u001b[0;32m~/miniconda3/envs/ibis-dev/envs/ibis-nb/lib/python3.7/site-packages/pymapd/cursor.py\u001b[0m in \u001b[0;36mexecute\u001b[0;34m(self, operation, parameters)\u001b[0m\n\u001b[1;32m    105\u001b[0m         \u001b[0;31m# https://github.com/omnisci/pymapd/issues/263\u001b[0m\u001b[0;34m\u001b[0m\u001b[0;34m\u001b[0m\u001b[0;34m\u001b[0m\u001b[0m\n\u001b[0;32m--> 106\u001b[0;31m         \u001b[0moperation\u001b[0m \u001b[0;34m=\u001b[0m \u001b[0moperation\u001b[0m\u001b[0;34m.\u001b[0m\u001b[0mstrip\u001b[0m\u001b[0;34m(\u001b[0m\u001b[0;34m)\u001b[0m\u001b[0;34m\u001b[0m\u001b[0;34m\u001b[0m\u001b[0m\n\u001b[0m\u001b[1;32m    107\u001b[0m \u001b[0;34m\u001b[0m\u001b[0m\n",
      "\u001b[0;31mAttributeError\u001b[0m: 'NoneType' object has no attribute 'strip'",
      "\nDuring handling of the above exception, another exception occurred:\n",
      "\u001b[0;31mException\u001b[0m       Traceback (most recent call last)",
      "\u001b[0;32m<ipython-input-4-8ca47ec8197d>\u001b[0m in \u001b[0;36m<module>\u001b[0;34m\u001b[0m\n\u001b[1;32m      5\u001b[0m \u001b[0;34m\u001b[0m\u001b[0m\n\u001b[1;32m      6\u001b[0m \u001b[0mnew_table_name\u001b[0m \u001b[0;34m=\u001b[0m \u001b[0;34mf'{table_name}_tmp'\u001b[0m\u001b[0;34m\u001b[0m\u001b[0;34m\u001b[0m\u001b[0m\n\u001b[0;32m----> 7\u001b[0;31m \u001b[0mcon\u001b[0m\u001b[0;34m.\u001b[0m\u001b[0mcreate_table\u001b[0m\u001b[0;34m(\u001b[0m\u001b[0mnew_table_name\u001b[0m\u001b[0;34m,\u001b[0m \u001b[0mexpr\u001b[0m\u001b[0;34m,\u001b[0m \u001b[0mis_temporary\u001b[0m\u001b[0;34m=\u001b[0m\u001b[0;32mTrue\u001b[0m\u001b[0;34m)\u001b[0m\u001b[0;34m\u001b[0m\u001b[0;34m\u001b[0m\u001b[0m\n\u001b[0m\u001b[1;32m      8\u001b[0m \u001b[0;34m\u001b[0m\u001b[0m\n\u001b[1;32m      9\u001b[0m \u001b[0mcon\u001b[0m\u001b[0;34m.\u001b[0m\u001b[0mtable\u001b[0m\u001b[0;34m(\u001b[0m\u001b[0mnew_table_name\u001b[0m\u001b[0;34m)\u001b[0m\u001b[0;34m.\u001b[0m\u001b[0mexecute\u001b[0m\u001b[0;34m(\u001b[0m\u001b[0;34m)\u001b[0m\u001b[0;34m\u001b[0m\u001b[0;34m\u001b[0m\u001b[0m\n",
      "\u001b[0;32m/mnt/sda1/storage/dev/quansight/ibis-project/ibis/ibis/backends/omniscidb/client.py\u001b[0m in \u001b[0;36mcreate_table\u001b[0;34m(self, table_name, obj, schema, database, max_rows, fragment_size, is_temporary, **kwargs)\u001b[0m\n\u001b[1;32m   1084\u001b[0m             \u001b[0;32mraise\u001b[0m \u001b[0mcom\u001b[0m\u001b[0;34m.\u001b[0m\u001b[0mIbisError\u001b[0m\u001b[0;34m(\u001b[0m\u001b[0;34m'Must pass expr or schema'\u001b[0m\u001b[0;34m)\u001b[0m\u001b[0;34m\u001b[0m\u001b[0;34m\u001b[0m\u001b[0m\n\u001b[1;32m   1085\u001b[0m \u001b[0;34m\u001b[0m\u001b[0m\n\u001b[0;32m-> 1086\u001b[0;31m         \u001b[0mself\u001b[0m\u001b[0;34m.\u001b[0m\u001b[0m_execute\u001b[0m\u001b[0;34m(\u001b[0m\u001b[0mstatement\u001b[0m\u001b[0;34m,\u001b[0m \u001b[0;32mFalse\u001b[0m\u001b[0;34m)\u001b[0m\u001b[0;34m\u001b[0m\u001b[0;34m\u001b[0m\u001b[0m\n\u001b[0m\u001b[1;32m   1087\u001b[0m         \u001b[0mself\u001b[0m\u001b[0;34m.\u001b[0m\u001b[0mset_database\u001b[0m\u001b[0;34m(\u001b[0m\u001b[0m_database\u001b[0m\u001b[0;34m)\u001b[0m\u001b[0;34m\u001b[0m\u001b[0;34m\u001b[0m\u001b[0m\n\u001b[1;32m   1088\u001b[0m \u001b[0;34m\u001b[0m\u001b[0m\n",
      "\u001b[0;32m/mnt/sda1/storage/dev/quansight/ibis-project/ibis/ibis/backends/omniscidb/client.py\u001b[0m in \u001b[0;36m_execute\u001b[0;34m(self, query, results, ipc, gpu_device, **kwargs)\u001b[0m\n\u001b[1;32m    846\u001b[0m             \u001b[0mresult\u001b[0m \u001b[0;34m=\u001b[0m \u001b[0mcursor\u001b[0m\u001b[0;34m(\u001b[0m\u001b[0mexecute\u001b[0m\u001b[0;34m(\u001b[0m\u001b[0mquery\u001b[0m\u001b[0;34m,\u001b[0m \u001b[0;34m**\u001b[0m\u001b[0mparams\u001b[0m\u001b[0;34m)\u001b[0m\u001b[0;34m)\u001b[0m\u001b[0;34m\u001b[0m\u001b[0;34m\u001b[0m\u001b[0m\n\u001b[1;32m    847\u001b[0m         \u001b[0;32mexcept\u001b[0m \u001b[0mException\u001b[0m \u001b[0;32mas\u001b[0m \u001b[0me\u001b[0m\u001b[0;34m:\u001b[0m\u001b[0;34m\u001b[0m\u001b[0;34m\u001b[0m\u001b[0m\n\u001b[0;32m--> 848\u001b[0;31m             \u001b[0;32mraise\u001b[0m \u001b[0mException\u001b[0m\u001b[0;34m(\u001b[0m\u001b[0;34m'{}: {}'\u001b[0m\u001b[0;34m.\u001b[0m\u001b[0mformat\u001b[0m\u001b[0;34m(\u001b[0m\u001b[0me\u001b[0m\u001b[0;34m,\u001b[0m \u001b[0mquery\u001b[0m\u001b[0;34m)\u001b[0m\u001b[0;34m)\u001b[0m\u001b[0;34m\u001b[0m\u001b[0;34m\u001b[0m\u001b[0m\n\u001b[0m\u001b[1;32m    849\u001b[0m \u001b[0;34m\u001b[0m\u001b[0m\n\u001b[1;32m    850\u001b[0m         \u001b[0;32mif\u001b[0m \u001b[0mresults\u001b[0m\u001b[0;34m:\u001b[0m\u001b[0;34m\u001b[0m\u001b[0;34m\u001b[0m\u001b[0m\n",
      "\u001b[0;31mException\u001b[0m: 'NoneType' object has no attribute 'strip': None"
     ]
    }
   ],
   "source": [
    "table_name = 'omnisci_states'\n",
    "cols = ['id', 'abbr', 'name']\n",
    "\n",
    "expr = con.table(table_name)[cols]\n",
    "\n",
    "new_table_name = f'{table_name}_tmp'\n",
    "con.create_table(new_table_name, expr, is_temporary=True)\n",
    "\n",
    "con.table(new_table_name).execute()"
   ]
  },
  {
   "cell_type": "code",
   "execution_count": null,
   "metadata": {},
   "outputs": [],
   "source": [
    "con.table(new_table_name).execute()"
   ]
  }
 ],
 "metadata": {
  "kernelspec": {
   "display_name": "Python 3",
   "language": "python",
   "name": "python3"
  },
  "language_info": {
   "codemirror_mode": {
    "name": "ipython",
    "version": 3
   },
   "file_extension": ".py",
   "mimetype": "text/x-python",
   "name": "python",
   "nbconvert_exporter": "python",
   "pygments_lexer": "ipython3",
   "version": "3.7.8"
  }
 },
 "nbformat": 4,
 "nbformat_minor": 4
}
