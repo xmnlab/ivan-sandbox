{
 "cells": [
  {
   "cell_type": "markdown",
   "metadata": {},
   "source": [
    "# Cume Dist and Percent Rank"
   ]
  },
  {
   "cell_type": "markdown",
   "metadata": {},
   "source": [
    "Currently Percent rank implemented by SQL Databases and Pandas Percent rank use different algorithms.\n",
    "\n",
    "Pandas Percent Rank uses the same algoritm used by SQL Databases CumeDist function.\n",
    "\n",
    "The calculation used by SQL Databases for CumeDist and Percent rank are:\n",
    "\n",
    "\n",
    "$$\n",
    "PERCENT\\_RANK = (RANK – 1)/(COUNT -1)\n",
    "$$\n",
    "\n",
    "$$\n",
    "CUME\\_DIST = RANK/COUNT\n",
    "$$\n",
    "\n",
    "\n",
    "Current, [Ibis](http://ibis-project.org) uses the approach of Pandas, but probably should use the same \n",
    "behavior used by the SQL Databases.\n",
    "\n",
    "More information about the difference between Percent Rank and CumeDist [here](https://www.sqlservercentral.com/articles/whats-the-difference-between-percent_rank-and-cume_dist)\n",
    "\n",
    "\n",
    "Some Ibis reference about the current implementation:\n",
    "\n",
    "- https://github.com/ibis-project/ibis/blob/1.3.0/ibis/pandas/execution/window.py#L360\n",
    "- https://github.com/ibis-project/ibis/blob/1.3.0/ibis/tests/all/test_window.py#L41\n",
    "\n",
    "\n",
    "This notebook aims to implement a function for sql percent_rank using pandas and test it against \n",
    "[OmniSciDB](https://docs.omnisci.com/)."
   ]
  },
  {
   "cell_type": "code",
   "execution_count": 46,
   "metadata": {},
   "outputs": [],
   "source": [
    "from copy import copy\n",
    "\n",
    "import ibis\n",
    "import pandas as pd\n",
    "# local\n",
    "from settings import conf\n",
    "from utils import cursor2df"
   ]
  },
  {
   "cell_type": "markdown",
   "metadata": {},
   "source": [
    "### Setup"
   ]
  },
  {
   "cell_type": "code",
   "execution_count": 47,
   "metadata": {},
   "outputs": [],
   "source": [
    "BACKENDS = ['omniscidb']\n",
    "con = {\n",
    "    backend: getattr(ibis, backend).connect(**conf[backend]) \n",
    "    for backend in BACKENDS\n",
    "}"
   ]
  },
  {
   "cell_type": "code",
   "execution_count": 48,
   "metadata": {},
   "outputs": [],
   "source": [
    "t = con['omniscidb'].table('functional_alltypes')"
   ]
  },
  {
   "cell_type": "markdown",
   "metadata": {},
   "source": [
    "### Percent Rank and CumeDist definition"
   ]
  },
  {
   "cell_type": "code",
   "execution_count": 54,
   "metadata": {},
   "outputs": [],
   "source": [
    "def win_count(se):\n",
    "    count = copy(se)\n",
    "    count[:] = len(count)\n",
    "    return count\n",
    "\n",
    "\n",
    "def sql_percent_rank(se):\n",
    "    \"\"\"\n",
    "    PERCENT_RANK = (RANK – 1)/(COUNT -1)\n",
    "    \"\"\"\n",
    "    return (se.rank(method='min') - 1) / (se.transform(len) - 1)\n",
    "\n",
    "\n",
    "def sql_cume_dist(se):\n",
    "    \"\"\"\n",
    "    CUME_DIST = RANK/COUNT\n",
    "    \"\"\"\n",
    "    return se.rank(method='min') / se.transform(len)\n",
    "\n",
    "\n",
    "def pd_percent_rank(se): \n",
    "    return se.rank(method='min', pct=True)\n",
    "\n",
    "def pd_percent_rank2(se): \n",
    "    return se.rank(pct=True)"
   ]
  },
  {
   "cell_type": "markdown",
   "metadata": {},
   "source": [
    "### Test CUME DIST using Ibis/OmniSciDB"
   ]
  },
  {
   "cell_type": "code",
   "execution_count": 55,
   "metadata": {},
   "outputs": [],
   "source": [
    "alltypes = t.execute()\n",
    "\n",
    "analytic_alltypes = alltypes.sort_values('id').groupby('string_col')\n",
    "\n",
    "result = alltypes.assign(\n",
    "    pandas_pct_rank=pd_percent_rank(analytic_alltypes.id),\n",
    "    cume_dist=sql_cume_dist(analytic_alltypes.id),\n",
    "    pct_rank=sql_percent_rank(analytic_alltypes.id),\n",
    ").set_index('id').sort_index()\n",
    "\n",
    "# display(result[['pandas_pct_rank', 'cume_dist']].describe())\n",
    "pd.testing.assert_series_equal(\n",
    "    result['pandas_pct_rank'], result['cume_dist'],\n",
    "    check_dtype=False,\n",
    "    check_names=False,\n",
    ")"
   ]
  },
  {
   "cell_type": "code",
   "execution_count": 69,
   "metadata": {},
   "outputs": [],
   "source": [
    "\n",
    "# (data.rank(method='min') - 1) / (len(data) - 1) and data.rank(method='min', pct=True)\n",
    "\n",
    "col = alltypes.string_col\n",
    "\n",
    "r1 = (col.rank(method='min') - 1) / (len(col) - 1)\n",
    "\n",
    "r1 = col.rank(method='min', pct=True)\n",
    "r2 = col.rank(method='min')  / len(col) \n",
    "pd.testing.assert_series_equal(r1, r2)"
   ]
  },
  {
   "cell_type": "code",
   "execution_count": 58,
   "metadata": {},
   "outputs": [],
   "source": [
    "cume_dist = sql_cume_dist(analytic_alltypes.id)\n",
    "pct_rank=sql_percent_rank(analytic_alltypes.id)\n",
    "pandas_pct_rank=pd_percent_rank(analytic_alltypes.id)\n",
    "pandas_pct_rank2=pd_percent_rank2(analytic_alltypes.id)"
   ]
  },
  {
   "cell_type": "code",
   "execution_count": 59,
   "metadata": {},
   "outputs": [],
   "source": [
    "pd.testing.assert_series_equal(\n",
    "    pandas_pct_rank, pandas_pct_rank2,\n",
    "    check_dtype=False,\n",
    "    check_names=False,\n",
    ")"
   ]
  },
  {
   "cell_type": "code",
   "execution_count": 51,
   "metadata": {},
   "outputs": [
    {
     "name": "stdout",
     "output_type": "stream",
     "text": [
      "0    2\n",
      "1    1\n",
      "2    2\n",
      "Name: value, dtype: int64\n",
      "0    2\n",
      "1    1\n",
      "2    2\n",
      "Name: value, dtype: int64\n"
     ]
    }
   ],
   "source": [
    "data = pd.DataFrame({'name': ['foo', 'bar', 'foo'],\n",
    "                       'value': [1, 2, 3], 'index': [1,2,3]})\n",
    "\n",
    "g = data.groupby('name')['value']\n",
    "print(g.apply(win_count))\n",
    "print(g.transform(len))"
   ]
  },
  {
   "cell_type": "code",
   "execution_count": 52,
   "metadata": {},
   "outputs": [
    {
     "ename": "TypeError",
     "evalue": "object of type 'int' has no len()",
     "output_type": "error",
     "traceback": [
      "\u001b[0;31m---------------------------------------------------------------------------\u001b[0m",
      "\u001b[0;31mTypeError\u001b[0m                                 Traceback (most recent call last)",
      "\u001b[0;32m<ipython-input-52-3749a5d14b3f>\u001b[0m in \u001b[0;36m<module>\u001b[0;34m\u001b[0m\n\u001b[1;32m      3\u001b[0m \u001b[0;34m\u001b[0m\u001b[0m\n\u001b[1;32m      4\u001b[0m \u001b[0mg\u001b[0m \u001b[0;34m=\u001b[0m \u001b[0mdata\u001b[0m\u001b[0;34m.\u001b[0m\u001b[0mvalue\u001b[0m\u001b[0;34m\u001b[0m\u001b[0;34m\u001b[0m\u001b[0m\n\u001b[0;32m----> 5\u001b[0;31m \u001b[0mprint\u001b[0m\u001b[0;34m(\u001b[0m\u001b[0mg\u001b[0m\u001b[0;34m.\u001b[0m\u001b[0mapply\u001b[0m\u001b[0;34m(\u001b[0m\u001b[0mwin_count\u001b[0m\u001b[0;34m)\u001b[0m\u001b[0;34m)\u001b[0m\u001b[0;34m\u001b[0m\u001b[0;34m\u001b[0m\u001b[0m\n\u001b[0m\u001b[1;32m      6\u001b[0m \u001b[0mprint\u001b[0m\u001b[0;34m(\u001b[0m\u001b[0mg\u001b[0m\u001b[0;34m.\u001b[0m\u001b[0mtransform\u001b[0m\u001b[0;34m(\u001b[0m\u001b[0mlen\u001b[0m\u001b[0;34m)\u001b[0m\u001b[0;34m)\u001b[0m\u001b[0;34m\u001b[0m\u001b[0;34m\u001b[0m\u001b[0m\n",
      "\u001b[0;32m~/miniconda3/envs/ibis-nb/lib/python3.7/site-packages/pandas/core/series.py\u001b[0m in \u001b[0;36mapply\u001b[0;34m(self, func, convert_dtype, args, **kwds)\u001b[0m\n\u001b[1;32m   3846\u001b[0m             \u001b[0;32melse\u001b[0m\u001b[0;34m:\u001b[0m\u001b[0;34m\u001b[0m\u001b[0;34m\u001b[0m\u001b[0m\n\u001b[1;32m   3847\u001b[0m                 \u001b[0mvalues\u001b[0m \u001b[0;34m=\u001b[0m \u001b[0mself\u001b[0m\u001b[0;34m.\u001b[0m\u001b[0mastype\u001b[0m\u001b[0;34m(\u001b[0m\u001b[0mobject\u001b[0m\u001b[0;34m)\u001b[0m\u001b[0;34m.\u001b[0m\u001b[0mvalues\u001b[0m\u001b[0;34m\u001b[0m\u001b[0;34m\u001b[0m\u001b[0m\n\u001b[0;32m-> 3848\u001b[0;31m                 \u001b[0mmapped\u001b[0m \u001b[0;34m=\u001b[0m \u001b[0mlib\u001b[0m\u001b[0;34m.\u001b[0m\u001b[0mmap_infer\u001b[0m\u001b[0;34m(\u001b[0m\u001b[0mvalues\u001b[0m\u001b[0;34m,\u001b[0m \u001b[0mf\u001b[0m\u001b[0;34m,\u001b[0m \u001b[0mconvert\u001b[0m\u001b[0;34m=\u001b[0m\u001b[0mconvert_dtype\u001b[0m\u001b[0;34m)\u001b[0m\u001b[0;34m\u001b[0m\u001b[0;34m\u001b[0m\u001b[0m\n\u001b[0m\u001b[1;32m   3849\u001b[0m \u001b[0;34m\u001b[0m\u001b[0m\n\u001b[1;32m   3850\u001b[0m         \u001b[0;32mif\u001b[0m \u001b[0mlen\u001b[0m\u001b[0;34m(\u001b[0m\u001b[0mmapped\u001b[0m\u001b[0;34m)\u001b[0m \u001b[0;32mand\u001b[0m \u001b[0misinstance\u001b[0m\u001b[0;34m(\u001b[0m\u001b[0mmapped\u001b[0m\u001b[0;34m[\u001b[0m\u001b[0;36m0\u001b[0m\u001b[0;34m]\u001b[0m\u001b[0;34m,\u001b[0m \u001b[0mSeries\u001b[0m\u001b[0;34m)\u001b[0m\u001b[0;34m:\u001b[0m\u001b[0;34m\u001b[0m\u001b[0;34m\u001b[0m\u001b[0m\n",
      "\u001b[0;32mpandas/_libs/lib.pyx\u001b[0m in \u001b[0;36mpandas._libs.lib.map_infer\u001b[0;34m()\u001b[0m\n",
      "\u001b[0;32m<ipython-input-49-0763708ac409>\u001b[0m in \u001b[0;36mwin_count\u001b[0;34m(se)\u001b[0m\n\u001b[1;32m      1\u001b[0m \u001b[0;32mdef\u001b[0m \u001b[0mwin_count\u001b[0m\u001b[0;34m(\u001b[0m\u001b[0mse\u001b[0m\u001b[0;34m)\u001b[0m\u001b[0;34m:\u001b[0m\u001b[0;34m\u001b[0m\u001b[0;34m\u001b[0m\u001b[0m\n\u001b[1;32m      2\u001b[0m     \u001b[0mcount\u001b[0m \u001b[0;34m=\u001b[0m \u001b[0mcopy\u001b[0m\u001b[0;34m(\u001b[0m\u001b[0mse\u001b[0m\u001b[0;34m)\u001b[0m\u001b[0;34m\u001b[0m\u001b[0;34m\u001b[0m\u001b[0m\n\u001b[0;32m----> 3\u001b[0;31m     \u001b[0mcount\u001b[0m\u001b[0;34m[\u001b[0m\u001b[0;34m:\u001b[0m\u001b[0;34m]\u001b[0m \u001b[0;34m=\u001b[0m \u001b[0mlen\u001b[0m\u001b[0;34m(\u001b[0m\u001b[0mcount\u001b[0m\u001b[0;34m)\u001b[0m\u001b[0;34m\u001b[0m\u001b[0;34m\u001b[0m\u001b[0m\n\u001b[0m\u001b[1;32m      4\u001b[0m     \u001b[0;32mreturn\u001b[0m \u001b[0mcount\u001b[0m\u001b[0;34m\u001b[0m\u001b[0;34m\u001b[0m\u001b[0m\n\u001b[1;32m      5\u001b[0m \u001b[0;34m\u001b[0m\u001b[0m\n",
      "\u001b[0;31mTypeError\u001b[0m: object of type 'int' has no len()"
     ]
    }
   ],
   "source": [
    "data = pd.DataFrame({'name': ['foo', 'bar', 'foo'],\n",
    "                       'value': [1, 2, 3], 'index': [1,2,3]})\n",
    "\n",
    "g = data.value\n",
    "print(g.apply(win_count))\n",
    "print(g.transform(len))"
   ]
  },
  {
   "cell_type": "markdown",
   "metadata": {},
   "source": [
    "### Test OmniSciDB Percent Rank"
   ]
  },
  {
   "cell_type": "code",
   "execution_count": null,
   "metadata": {},
   "outputs": [],
   "source": [
    "sql = '''\n",
    "SELECT \n",
    "    id, cume_dist() OVER (PARTITION BY \"string_col\" ORDER BY \"id\") AS cume_dist_val,\n",
    "    percent_rank() OVER (PARTITION BY \"string_col\" ORDER BY \"id\") AS percent_rank_val\n",
    "FROM functional_alltypes\n",
    "'''\n",
    "\n",
    "cur = con['omniscidb'].con.execute(sql)\n",
    "df = cursor2df(cur).set_index('id').sort_index()\n",
    "df.head()"
   ]
  },
  {
   "cell_type": "code",
   "execution_count": null,
   "metadata": {},
   "outputs": [],
   "source": [
    "pd.testing.assert_series_equal(\n",
    "    result['cume_dist'], \n",
    "    df['cume_dist_val'],\n",
    "    check_dtype=False,\n",
    "    check_names=False,\n",
    ")\n",
    "\n",
    "pd.testing.assert_series_equal(\n",
    "    result['cume_dist'], \n",
    "    df['cume_dist_val'],\n",
    "    check_dtype=False,\n",
    "    check_names=False,\n",
    ")"
   ]
  },
  {
   "cell_type": "markdown",
   "metadata": {},
   "source": [
    "### MySQL"
   ]
  },
  {
   "cell_type": "code",
   "execution_count": null,
   "metadata": {},
   "outputs": [],
   "source": [
    "con['mysql'] = ibis.mysql.connect(**conf['mysql'])\n",
    "\n",
    "sql = '''\n",
    "SELECT \n",
    "    t0.`index`, t0.`Unnamed: 0`, t0.id, t0.bool_col, \n",
    "    t0.tinyint_col, t0.smallint_col, t0.int_col, \n",
    "    t0.bigint_col, t0.float_col, t0.double_col, \n",
    "    t0.date_string_col, t0.string_col, \n",
    "    t0.timestamp_col, t0.year, t0.month, \n",
    "    percent_rank() OVER (PARTITION BY t0.string_col ORDER BY t0.id ASC ROWS BETWEEN UNBOUNDED PRECEDING AND CURRENT ROW) AS val \n",
    "FROM (\n",
    "    SELECT t1.`index` AS `index`, t1.`Unnamed: 0` AS `Unnamed: 0`, t1.id AS id, \n",
    "    t1.bool_col = 1 AS bool_col, t1.tinyint_col AS tinyint_col, t1.smallint_col AS smallint_col, \n",
    "    t1.int_col AS int_col, t1.bigint_col AS bigint_col, t1.float_col AS float_col, \n",
    "    t1.double_col AS double_col, t1.date_string_col AS date_string_col, t1.string_col AS string_col, \n",
    "    t1.timestamp_col AS timestamp_col, t1.year AS year, t1.month AS month \n",
    "FROM functional_alltypes AS t1) AS t0 \n",
    "LIMIT 10000\n",
    "'''\n",
    "\n",
    "con['mysql'].con.execute(sql)"
   ]
  },
  {
   "cell_type": "code",
   "execution_count": null,
   "metadata": {},
   "outputs": [],
   "source": [
    "sql = '''\n",
    "SELECT \n",
    "    t0.`index`, t0.`Unnamed: 0`, t0.id, t0.bool_col, t0.tinyint_col,\n",
    "    t0.smallint_col, t0.int_col, t0.bigint_col, t0.float_col, t0.double_col,\n",
    "    t0.date_string_col, t0.string_col, t0.timestamp_col, t0.year, t0.month,\n",
    "    percent_rank() OVER (PARTITION BY t0.string_col ORDER BY t0.id ASC) AS val\n",
    "FROM (\n",
    "    SELECT t1.`index` AS `index`, t1.`Unnamed: 0` AS `Unnamed: 0`, t1.id AS id, \n",
    "        t1.bool_col = 1 AS bool_col, \n",
    "        t1.tinyint_col AS tinyint_col, t1.smallint_col AS smallint_col, \n",
    "        t1.int_col AS int_col, t1.bigint_col AS bigint_col, t1.float_col AS float_col,\n",
    "        t1.double_col AS double_col, t1.date_string_col AS date_string_col,\n",
    "        t1.string_col AS string_col, t1.timestamp_col AS timestamp_col,\n",
    "        t1.year AS year, t1.month AS month\n",
    "    FROM functional_alltypes AS t1\n",
    ") AS t0\n",
    "'''\n",
    "con['mysql'].con.execute(sql)"
   ]
  },
  {
   "cell_type": "code",
   "execution_count": 10,
   "metadata": {},
   "outputs": [
    {
     "data": {
      "text/html": [
       "<div>\n",
       "<style scoped>\n",
       "    .dataframe tbody tr th:only-of-type {\n",
       "        vertical-align: middle;\n",
       "    }\n",
       "\n",
       "    .dataframe tbody tr th {\n",
       "        vertical-align: top;\n",
       "    }\n",
       "\n",
       "    .dataframe thead th {\n",
       "        text-align: right;\n",
       "    }\n",
       "</style>\n",
       "<table border=\"1\" class=\"dataframe\">\n",
       "  <thead>\n",
       "    <tr style=\"text-align: right;\">\n",
       "      <th></th>\n",
       "      <th>index</th>\n",
       "      <th>Unnamed__0</th>\n",
       "      <th>id</th>\n",
       "      <th>bool_col</th>\n",
       "      <th>tinyint_col</th>\n",
       "      <th>smallint_col</th>\n",
       "      <th>int_col</th>\n",
       "      <th>bigint_col</th>\n",
       "      <th>float_col</th>\n",
       "      <th>double_col</th>\n",
       "      <th>date_string_col</th>\n",
       "      <th>string_col</th>\n",
       "      <th>timestamp_col</th>\n",
       "      <th>year_</th>\n",
       "      <th>month_</th>\n",
       "    </tr>\n",
       "  </thead>\n",
       "  <tbody>\n",
       "    <tr>\n",
       "      <th>0</th>\n",
       "      <td>0</td>\n",
       "      <td>0</td>\n",
       "      <td>6690</td>\n",
       "      <td>True</td>\n",
       "      <td>0</td>\n",
       "      <td>0</td>\n",
       "      <td>0</td>\n",
       "      <td>0</td>\n",
       "      <td>0.0</td>\n",
       "      <td>0.0</td>\n",
       "      <td>11/01/10</td>\n",
       "      <td>0</td>\n",
       "      <td>2010-11-01 00:00:00</td>\n",
       "      <td>2010</td>\n",
       "      <td>11</td>\n",
       "    </tr>\n",
       "    <tr>\n",
       "      <th>1</th>\n",
       "      <td>1</td>\n",
       "      <td>1</td>\n",
       "      <td>6691</td>\n",
       "      <td>False</td>\n",
       "      <td>1</td>\n",
       "      <td>1</td>\n",
       "      <td>1</td>\n",
       "      <td>10</td>\n",
       "      <td>1.1</td>\n",
       "      <td>10.1</td>\n",
       "      <td>11/01/10</td>\n",
       "      <td>1</td>\n",
       "      <td>2010-11-01 00:01:00</td>\n",
       "      <td>2010</td>\n",
       "      <td>11</td>\n",
       "    </tr>\n",
       "    <tr>\n",
       "      <th>2</th>\n",
       "      <td>2</td>\n",
       "      <td>2</td>\n",
       "      <td>6692</td>\n",
       "      <td>True</td>\n",
       "      <td>2</td>\n",
       "      <td>2</td>\n",
       "      <td>2</td>\n",
       "      <td>20</td>\n",
       "      <td>2.2</td>\n",
       "      <td>20.2</td>\n",
       "      <td>11/01/10</td>\n",
       "      <td>2</td>\n",
       "      <td>2010-11-01 00:02:00</td>\n",
       "      <td>2010</td>\n",
       "      <td>11</td>\n",
       "    </tr>\n",
       "    <tr>\n",
       "      <th>3</th>\n",
       "      <td>3</td>\n",
       "      <td>3</td>\n",
       "      <td>6693</td>\n",
       "      <td>False</td>\n",
       "      <td>3</td>\n",
       "      <td>3</td>\n",
       "      <td>3</td>\n",
       "      <td>30</td>\n",
       "      <td>3.3</td>\n",
       "      <td>30.3</td>\n",
       "      <td>11/01/10</td>\n",
       "      <td>3</td>\n",
       "      <td>2010-11-01 00:03:00</td>\n",
       "      <td>2010</td>\n",
       "      <td>11</td>\n",
       "    </tr>\n",
       "    <tr>\n",
       "      <th>4</th>\n",
       "      <td>4</td>\n",
       "      <td>4</td>\n",
       "      <td>6694</td>\n",
       "      <td>True</td>\n",
       "      <td>4</td>\n",
       "      <td>4</td>\n",
       "      <td>4</td>\n",
       "      <td>40</td>\n",
       "      <td>4.4</td>\n",
       "      <td>40.4</td>\n",
       "      <td>11/01/10</td>\n",
       "      <td>4</td>\n",
       "      <td>2010-11-01 00:04:00</td>\n",
       "      <td>2010</td>\n",
       "      <td>11</td>\n",
       "    </tr>\n",
       "  </tbody>\n",
       "</table>\n",
       "</div>"
      ],
      "text/plain": [
       "   index  Unnamed__0    id  bool_col  tinyint_col  smallint_col  int_col  \\\n",
       "0      0           0  6690      True            0             0        0   \n",
       "1      1           1  6691     False            1             1        1   \n",
       "2      2           2  6692      True            2             2        2   \n",
       "3      3           3  6693     False            3             3        3   \n",
       "4      4           4  6694      True            4             4        4   \n",
       "\n",
       "   bigint_col  float_col  double_col date_string_col string_col  \\\n",
       "0           0        0.0         0.0        11/01/10          0   \n",
       "1          10        1.1        10.1        11/01/10          1   \n",
       "2          20        2.2        20.2        11/01/10          2   \n",
       "3          30        3.3        30.3        11/01/10          3   \n",
       "4          40        4.4        40.4        11/01/10          4   \n",
       "\n",
       "        timestamp_col  year_  month_  \n",
       "0 2010-11-01 00:00:00   2010      11  \n",
       "1 2010-11-01 00:01:00   2010      11  \n",
       "2 2010-11-01 00:02:00   2010      11  \n",
       "3 2010-11-01 00:03:00   2010      11  \n",
       "4 2010-11-01 00:04:00   2010      11  "
      ]
     },
     "execution_count": 10,
     "metadata": {},
     "output_type": "execute_result"
    }
   ],
   "source": [
    "t.execute().head()"
   ]
  },
  {
   "cell_type": "code",
   "execution_count": 15,
   "metadata": {},
   "outputs": [],
   "source": [
    "result_fn = lambda t, win: t.id.percent_rank().over(win)\n",
    "expected_fn = lambda t: (\n",
    "    (t.id.rank(method='min') - 1) / (t.id.transform(len) - 1)\n",
    ")\n",
    "\n",
    "alltypes = t\n",
    "df = alltypes.execute()\n",
    "\n",
    "expr = alltypes.mutate(\n",
    "    val=result_fn(\n",
    "        alltypes,\n",
    "        win=ibis.window(\n",
    "            following=0,\n",
    "            group_by=[alltypes.string_col],\n",
    "            order_by=[alltypes.id],\n",
    "        ),\n",
    "    )\n",
    ")\n",
    "\n",
    "result = expr.execute().set_index('id').sort_index()\n",
    "column = expected_fn(df.sort_values('id').groupby('string_col'))\n",
    "expected = df.assign(val=column).set_index('id').sort_index()\n",
    "\n",
    "left, right = result.val, expected.val\n",
    "\n",
    "pd.testing.assert_series_equal(left, right)"
   ]
  },
  {
   "cell_type": "code",
   "execution_count": 19,
   "metadata": {},
   "outputs": [
    {
     "data": {
      "text/plain": [
       "1.0"
      ]
     },
     "execution_count": 19,
     "metadata": {},
     "output_type": "execute_result"
    }
   ],
   "source": [
    "left.max()"
   ]
  },
  {
   "cell_type": "markdown",
   "metadata": {},
   "source": [
    "## Conclusions"
   ]
  },
  {
   "cell_type": "markdown",
   "metadata": {},
   "source": [
    "This notebook implemented Percent Rank and CumeDist for pandas. The tests against OmniSciDB passed with success.  "
   ]
  }
 ],
 "metadata": {
  "kernelspec": {
   "display_name": "Python 3",
   "language": "python",
   "name": "python3"
  },
  "language_info": {
   "codemirror_mode": {
    "name": "ipython",
    "version": 3
   },
   "file_extension": ".py",
   "mimetype": "text/x-python",
   "name": "python",
   "nbconvert_exporter": "python",
   "pygments_lexer": "ipython3",
   "version": "3.7.6"
  }
 },
 "nbformat": 4,
 "nbformat_minor": 4
}
