{
 "cells": [
  {
   "cell_type": "code",
   "execution_count": 34,
   "metadata": {},
   "outputs": [],
   "source": [
    "from decimal import Decimal \n",
    "\n",
    "import pyarrow\n",
    "import pymapd\n",
    "import pandas as pd"
   ]
  },
  {
   "cell_type": "code",
   "execution_count": 4,
   "metadata": {},
   "outputs": [],
   "source": [
    "def cursor2df(cursor):\n",
    "    col_names = [c.name for c in cursor.description]\n",
    "    return pd.DataFrame(cursor.fetchall(), columns=col_names)"
   ]
  },
  {
   "cell_type": "code",
   "execution_count": 5,
   "metadata": {},
   "outputs": [],
   "source": [
    "con = pymapd.connect(host='localhost', user='admin', password='HyperInteractive')"
   ]
  },
  {
   "cell_type": "code",
   "execution_count": 28,
   "metadata": {},
   "outputs": [
    {
     "data": {
      "text/plain": [
       "<pymapd.cursor.Cursor at 0x7f601400a090>"
      ]
     },
     "execution_count": 28,
     "metadata": {},
     "output_type": "execute_result"
    }
   ],
   "source": [
    "table_name = 'mytable_decimal_array'\n",
    "\n",
    "con.execute(f'''\n",
    "DROP TABLE IF EXISTS {table_name};\n",
    "''')\n",
    "\n",
    "con.execute(f'''\n",
    "CREATE TABLE {table_name} (\n",
    "    col_a INT,\n",
    "    col_b DECIMAL(10, 6)\n",
    ");\n",
    "''')"
   ]
  },
  {
   "cell_type": "code",
   "execution_count": 29,
   "metadata": {},
   "outputs": [
    {
     "data": {
      "text/plain": [
       "<pymapd.cursor.Cursor at 0x7f60147ec210>"
      ]
     },
     "execution_count": 29,
     "metadata": {},
     "output_type": "execute_result"
    }
   ],
   "source": [
    "con.execute(f'''\n",
    "INSERT INTO {table_name} VALUES (\n",
    "    1, '1.123401'\n",
    ");\n",
    "''')"
   ]
  },
  {
   "cell_type": "code",
   "execution_count": 30,
   "metadata": {},
   "outputs": [
    {
     "name": "stdout",
     "output_type": "stream",
     "text": [
      "(1, 1.123401)\n"
     ]
    }
   ],
   "source": [
    "cur = con.execute(f'''SELECT * FROM {table_name};''')\n",
    "for row in cur:\n",
    "    print(row)"
   ]
  },
  {
   "cell_type": "code",
   "execution_count": 35,
   "metadata": {},
   "outputs": [],
   "source": [
    "con.execute(f'''\n",
    "DROP TABLE IF EXISTS {table_name};\n",
    "''')\n",
    "\n",
    "df = pd.DataFrame({\n",
    "    'col_a': [[1, 1], [2, 2], [3, 3]],\n",
    "    'col_b': [\n",
    "        Decimal('1.1234'),\n",
    "        Decimal('2.2345'),\n",
    "        Decimal('3.3456'),\n",
    "    ],\n",
    "})"
   ]
  },
  {
   "cell_type": "code",
   "execution_count": 41,
   "metadata": {},
   "outputs": [
    {
     "data": {
      "text/plain": [
       "0    1.1234\n",
       "1    2.2345\n",
       "2    3.3456\n",
       "Name: col_b, dtype: float64"
      ]
     },
     "execution_count": 41,
     "metadata": {},
     "output_type": "execute_result"
    }
   ],
   "source": [
    "df.col_b.astype(float)"
   ]
  },
  {
   "cell_type": "code",
   "execution_count": 42,
   "metadata": {},
   "outputs": [],
   "source": [
    "scale = 10\n",
    "precision = 4"
   ]
  },
  {
   "cell_type": "code",
   "execution_count": 49,
   "metadata": {},
   "outputs": [
    {
     "data": {
      "text/plain": [
       "0    11234000000\n",
       "1    22345000000\n",
       "2    33456000000\n",
       "Name: col_b, dtype: int64"
      ]
     },
     "execution_count": 49,
     "metadata": {},
     "output_type": "execute_result"
    }
   ],
   "source": [
    "(df.col_b * 10 ** precision).astype(int) * 10 ** (scale - precision) "
   ]
  },
  {
   "cell_type": "code",
   "execution_count": 52,
   "metadata": {},
   "outputs": [
    {
     "data": {
      "text/plain": [
       "0    11234000000\n",
       "1    22345000000\n",
       "2    33456000000\n",
       "Name: col_b, dtype: int64"
      ]
     },
     "execution_count": 52,
     "metadata": {},
     "output_type": "execute_result"
    }
   ],
   "source": [
    "data = df.col_b\n",
    "data = (data * 10 ** precision).astype(int) \\\n",
    "    * 10 ** (scale - precision)\n",
    "data"
   ]
  }
 ],
 "metadata": {
  "kernelspec": {
   "display_name": "Python 3",
   "language": "python",
   "name": "python3"
  },
  "language_info": {
   "codemirror_mode": {
    "name": "ipython",
    "version": 3
   },
   "file_extension": ".py",
   "mimetype": "text/x-python",
   "name": "python",
   "nbconvert_exporter": "python",
   "pygments_lexer": "ipython3",
   "version": "3.7.6"
  }
 },
 "nbformat": 4,
 "nbformat_minor": 4
}
