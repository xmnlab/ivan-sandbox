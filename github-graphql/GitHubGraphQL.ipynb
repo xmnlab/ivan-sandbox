{
 "cells": [
  {
   "cell_type": "code",
   "execution_count": 150,
   "metadata": {},
   "outputs": [],
   "source": [
    "import asyncio\n",
    "import dataclasses\n",
    "from datetime import datetime\n",
    "import os\n",
    "import pprint\n",
    "from typing import List, Optional\n",
    "\n",
    "\n",
    "from dotenv import load_dotenv\n",
    "\n",
    "# load the environment variables from .env\n",
    "load_dotenv();"
   ]
  },
  {
   "cell_type": "code",
   "execution_count": 25,
   "metadata": {},
   "outputs": [],
   "source": [
    "pp = pprint.PrettyPrinter(indent=2)"
   ]
  },
  {
   "cell_type": "code",
   "execution_count": 2,
   "metadata": {},
   "outputs": [],
   "source": [
    "from gql import gql, Client\n",
    "from gql.transport.aiohttp import AIOHTTPTransport"
   ]
  },
  {
   "cell_type": "code",
   "execution_count": 17,
   "metadata": {},
   "outputs": [],
   "source": [
    "endpoint = \"https://api.github.com/graphql\"\n",
    "github_token = os.getenv(\"github_token\")"
   ]
  },
  {
   "cell_type": "code",
   "execution_count": 5,
   "metadata": {},
   "outputs": [
    {
     "name": "stdout",
     "output_type": "stream",
     "text": [
      "{\"data\":{\"viewer\":{\"login\":\"xmnlab\"}}}\n"
     ]
    },
    {
     "name": "stderr",
     "output_type": "stream",
     "text": [
      "  % Total    % Received % Xferd  Average Speed   Time    Time     Time  Current\n",
      "                                 Dload  Upload   Total   Spent    Left  Speed\n",
      "100    86  100    39  100    47     61     74 --:--:-- --:--:-- --:--:--   136\n"
     ]
    }
   ],
   "source": [
    "%%bash\n",
    "curl -H \"Authorization: bearer $github_token\" -X POST -d \" \\\n",
    " { \\\n",
    "   \\\"query\\\": \\\"query { viewer { login }}\\\" \\\n",
    " } \\\n",
    "\" https://api.github.com/graphql"
   ]
  },
  {
   "cell_type": "code",
   "execution_count": 84,
   "metadata": {},
   "outputs": [
    {
     "name": "stdout",
     "output_type": "stream",
     "text": [
      "{'viewer': {'login': 'xmnlab'}}\n"
     ]
    }
   ],
   "source": [
    "transport = AIOHTTPTransport(\n",
    "    headers={\n",
    "        \"Authorization\": f\"bearer {github_token}\"\n",
    "    },\n",
    "    url=endpoint\n",
    ")\n",
    "\n",
    "async def query(endpoint: str, github_token: str, transport: AIOHTTPTransport):\n",
    "    # Using `async with` on the client will start a connection on the transport\n",
    "    # and provide a `session` variable to execute queries on this connection\n",
    "    async with Client(\n",
    "        transport=transport, \n",
    "        fetch_schema_from_transport=True,\n",
    "    ) as session:\n",
    "\n",
    "        # Execute single query\n",
    "        query = gql(\n",
    "            \"\"\"\n",
    "            query {\n",
    "              viewer {\n",
    "                login\n",
    "              }\n",
    "            }\n",
    "        \"\"\"\n",
    "        )\n",
    "\n",
    "        result = await session.execute(query)\n",
    "        pp.pprint(result)\n",
    "\n",
    "\n",
    "await query(endpoint, github_token, transport)"
   ]
  },
  {
   "cell_type": "code",
   "execution_count": 217,
   "metadata": {},
   "outputs": [],
   "source": [
    "@dataclasses.dataclass\n",
    "class GitHubGraphQLSearchFilter:\n",
    "    authors: List[str] = dataclasses.field(default_factory=list)\n",
    "    assignee: List[str] = dataclasses.field(default_factory=list)\n",
    "    search_type: str=\"pr\" # pr or issue\n",
    "    start_datetime: Optional[datetime] = None\n",
    "    end_datetime: Optional[datetime] = None\n",
    "    specific_datetime: Optional[datetime] = None\n",
    "    status: List[str] = dataclasses.field(default_factory=list)  # open, closed, merged\n",
    "        "
   ]
  },
  {
   "cell_type": "code",
   "execution_count": 220,
   "metadata": {},
   "outputs": [],
   "source": [
    "class GitHubGraphQLSearch:\n",
    "    token: str=\"\"\n",
    "    trasnport: Client = None\n",
    "    org_name: str = \"\"\n",
    "    repo_name: str = \"\"\n",
    "        \n",
    "    def __init__(self, token: str, endpoint: str, org_name: str, repo_name: str):\n",
    "        self.token = token\n",
    "        self.org_name = org_name\n",
    "        self.repo_name = repo_name\n",
    "        self.transport = AIOHTTPTransport(\n",
    "            headers={\n",
    "                \"Authorization\": f\"bearer {self.token}\"\n",
    "            },\n",
    "            url=endpoint\n",
    "        )\n",
    "        \n",
    "    def render_tmpl(self, tmpl: str, input_data: dict):\n",
    "        result = tmpl\n",
    "        new_result = []\n",
    "        \n",
    "        for line in result.split(\"\\n\"):\n",
    "            if \"#\" in line:\n",
    "                continue\n",
    "            new_result.append(line)\n",
    "        \n",
    "        result = \"\\n\".join(new_result)\n",
    "            \n",
    "\n",
    "        for k, v in input_data.items():\n",
    "            content = None\n",
    "            if isinstance(v, str):\n",
    "                content = v\n",
    "            elif isinstance(v, list):\n",
    "                content = \" \".join([\n",
    "                    f\"{k}:{vi}\" for vi in v\n",
    "                ])\n",
    "            else:\n",
    "                content = str(v)\n",
    "\n",
    "            result = result.replace(\"{{\" + k + \"}}\", content)\n",
    "        return result\n",
    "\n",
    "\n",
    "    async def search_pagination(self, session: Client, gql_tmpl: str, variables: dict):\n",
    "        has_next_page = True\n",
    "        pagination_after = \"\"\n",
    "        limit = 100\n",
    "        results = []\n",
    "        has_result = False\n",
    "\n",
    "        while has_next_page:\n",
    "            _variables = dict(variables)\n",
    "            _variables.update(\n",
    "                after=\"\" if not pagination_after else f', after: \"{pagination_after}\"'\n",
    "            )\n",
    "\n",
    "            gql_stmt = self.render_tmpl(gql_tmpl, _variables)\n",
    "            print(gql_stmt)\n",
    "\n",
    "            query = gql(gql_stmt)\n",
    "            params = {\"first\": limit}\n",
    "\n",
    "            result = await session.execute(query, variable_values=params)\n",
    "\n",
    "            try:\n",
    "                has_next_page = result[\"search\"][\"pageInfo\"][\"hasNextPage\"]\n",
    "                pagination_after = result[\"search\"][\"pageInfo\"][\"endCursor\"]\n",
    "                has_result = True\n",
    "            except:\n",
    "                has_next_page = False\n",
    "                has_result = False\n",
    "\n",
    "            if not has_result:\n",
    "                break\n",
    "\n",
    "            results += result[\"search\"][\"edges\"]\n",
    "        return results\n",
    "    \n",
    "    async def search(self, search_filters: GitHubGraphQLSearchFilter):\n",
    "        # Using `async with` on the client will start a connection on the transport\n",
    "        # and provide a `session` variable to execute queries on this connection\n",
    "        async with Client(\n",
    "            transport=self.transport, \n",
    "            fetch_schema_from_transport=True,\n",
    "        ) as session:\n",
    "            if search_filters.search_type not in [\"pr\", \"issue\"]:\n",
    "                raise Exception(\"search_type should be 'pr' or 'issue'\")\n",
    "\n",
    "            gql_node_type = \"PullRequest\" if search_filters.search_type == \"pr\" else \"Issue\"\n",
    "\n",
    "            # Execute single query\n",
    "            gql_tmpl = \"\"\"\n",
    "            query ($first: Int!)  {\n",
    "              search (query: \"repo:{{org_name}}/{{repo_name}} is:{{search_type}} {{status}} {{assignee}} {{author}}\", type: ISSUE, first: $first {{after}}) {\n",
    "                edges {\n",
    "                  node {\n",
    "                    ... on {{gql_node_type}} {\n",
    "                      id\n",
    "                      number\n",
    "                      url\n",
    "                      title\n",
    "                      author {\n",
    "                        login\n",
    "                      }\n",
    "                      createdAt\n",
    "                      closedAt\n",
    "                      mergedAt  # [search_type==\"pr\"]\n",
    "                      lastEditedAt\n",
    "                      state\n",
    "                      updatedAt\n",
    "                    }\n",
    "                  }\n",
    "                }\n",
    "                issueCount\n",
    "                pageInfo {\n",
    "                    startCursor\n",
    "                    hasNextPage\n",
    "                    endCursor\n",
    "                }\n",
    "              }\n",
    "            }\n",
    "            \"\"\"\n",
    "\n",
    "            variables = {\n",
    "                \"org_name\": self.org_name,\n",
    "                \"repo_name\": self.repo_name,\n",
    "                \"gql_node_type\": gql_node_type,\n",
    "                \"search_type\": search_filters.search_type,\n",
    "                \"author\": search_filters.authors,\n",
    "                \"assignee\": search_filters.assignee,\n",
    "                \"status\": \" \".join([f\"is:{status}\" for status in search_filters.status])\n",
    "            }\n",
    "\n",
    "            return await self.search_pagination(session, gql_tmpl, variables)\n",
    "        "
   ]
  },
  {
   "cell_type": "code",
   "execution_count": 222,
   "metadata": {},
   "outputs": [
    {
     "name": "stdout",
     "output_type": "stream",
     "text": [
      "\n",
      "            query ($first: Int!)  {\n",
      "              search (query: \"repo:pytorch/pytorch is:pr   author:pearu\", type: ISSUE, first: $first ) {\n",
      "                edges {\n",
      "                  node {\n",
      "                    ... on PullRequest {\n",
      "                      id\n",
      "                      number\n",
      "                      url\n",
      "                      title\n",
      "                      author {\n",
      "                        login\n",
      "                      }\n",
      "                      createdAt\n",
      "                      closedAt\n",
      "                      lastEditedAt\n",
      "                      state\n",
      "                      updatedAt\n",
      "                    }\n",
      "                  }\n",
      "                }\n",
      "                issueCount\n",
      "                pageInfo {\n",
      "                    startCursor\n",
      "                    hasNextPage\n",
      "                    endCursor\n",
      "                }\n",
      "              }\n",
      "            }\n",
      "            \n"
     ]
    }
   ],
   "source": [
    "search_filters = GitHubGraphQLSearchFilter(\n",
    "    search_type=\"pr\",\n",
    "    authors=[\n",
    "        \"pearu\",\n",
    "    ]\n",
    ")\n",
    "\n",
    "gh_search = GitHubGraphQLSearch(token=github_token, endpoint=endpoint, org_name=\"pytorch\", repo_name=\"pytorch\")\n",
    "results = await gh_search.search(search_filters)"
   ]
  },
  {
   "cell_type": "code",
   "execution_count": 223,
   "metadata": {},
   "outputs": [
    {
     "data": {
      "text/plain": [
       "18"
      ]
     },
     "execution_count": 223,
     "metadata": {},
     "output_type": "execute_result"
    }
   ],
   "source": [
    "len(results)"
   ]
  },
  {
   "cell_type": "markdown",
   "metadata": {},
   "source": [
    "### Questions:\n",
    "\n",
    "* What `<repo>` PRs are \"Open\"?\n",
    "* What `<repo>` PRs have been Closed during that time?\n",
    "* Only return for specific members for `<repo>` (for PRs - this is who authored the PR, for Issues - this is who is assigned)\n",
    "* What `<repo>` Issues are linked to each of these PRs?"
   ]
  },
  {
   "cell_type": "code",
   "execution_count": 224,
   "metadata": {},
   "outputs": [],
   "source": [
    "gh_search = GitHubGraphQLSearch(token=github_token, endpoint=endpoint, org_name=\"pytorch\", repo_name=\"pytorch\")"
   ]
  },
  {
   "cell_type": "markdown",
   "metadata": {},
   "source": [
    "### What `<repo>` PRs are \"Open\"?"
   ]
  },
  {
   "cell_type": "code",
   "execution_count": 225,
   "metadata": {},
   "outputs": [
    {
     "name": "stdout",
     "output_type": "stream",
     "text": [
      "\n",
      "            query ($first: Int!)  {\n",
      "              search (query: \"repo:pytorch/pytorch is:pr is:open  author:xmnlab author:pearu author:IvanYashchuk author:ysiraichi author:hameerabbasi\", type: ISSUE, first: $first ) {\n",
      "                edges {\n",
      "                  node {\n",
      "                    ... on PullRequest {\n",
      "                      id\n",
      "                      number\n",
      "                      url\n",
      "                      title\n",
      "                      author {\n",
      "                        login\n",
      "                      }\n",
      "                      createdAt\n",
      "                      closedAt\n",
      "                      lastEditedAt\n",
      "                      state\n",
      "                      updatedAt\n",
      "                    }\n",
      "                  }\n",
      "                }\n",
      "                issueCount\n",
      "                pageInfo {\n",
      "                    startCursor\n",
      "                    hasNextPage\n",
      "                    endCursor\n",
      "                }\n",
      "              }\n",
      "            }\n",
      "            \n"
     ]
    }
   ],
   "source": [
    "search_filters = GitHubGraphQLSearchFilter(\n",
    "    search_type=\"pr\",\n",
    "    authors=[\n",
    "        \"xmnlab\",\n",
    "        \"pearu\",\n",
    "        \"IvanYashchuk\",\n",
    "        \"ysiraichi\",\n",
    "        \"hameerabbasi\"\n",
    "    ],\n",
    "    status=[\"open\"]\n",
    ")\n",
    "results = await gh_search.search(search_filters)"
   ]
  },
  {
   "cell_type": "code",
   "execution_count": 226,
   "metadata": {},
   "outputs": [
    {
     "data": {
      "text/plain": [
       "24"
      ]
     },
     "execution_count": 226,
     "metadata": {},
     "output_type": "execute_result"
    }
   ],
   "source": [
    "len(results)"
   ]
  },
  {
   "cell_type": "markdown",
   "metadata": {},
   "source": [
    "### What `<repo>` PRs have been Closed during that time?"
   ]
  },
  {
   "cell_type": "code",
   "execution_count": 227,
   "metadata": {},
   "outputs": [
    {
     "name": "stdout",
     "output_type": "stream",
     "text": [
      "\n",
      "            query ($first: Int!)  {\n",
      "              search (query: \"repo:pytorch/pytorch is:pr is:closed  author:xmnlab author:pearu author:IvanYashchuk author:ysiraichi author:hameerabbasi\", type: ISSUE, first: $first ) {\n",
      "                edges {\n",
      "                  node {\n",
      "                    ... on PullRequest {\n",
      "                      id\n",
      "                      number\n",
      "                      url\n",
      "                      title\n",
      "                      author {\n",
      "                        login\n",
      "                      }\n",
      "                      createdAt\n",
      "                      closedAt\n",
      "                      lastEditedAt\n",
      "                      state\n",
      "                      updatedAt\n",
      "                    }\n",
      "                  }\n",
      "                }\n",
      "                issueCount\n",
      "                pageInfo {\n",
      "                    startCursor\n",
      "                    hasNextPage\n",
      "                    endCursor\n",
      "                }\n",
      "              }\n",
      "            }\n",
      "            \n",
      "\n",
      "            query ($first: Int!)  {\n",
      "              search (query: \"repo:pytorch/pytorch is:pr is:closed  author:xmnlab author:pearu author:IvanYashchuk author:ysiraichi author:hameerabbasi\", type: ISSUE, first: $first , after: \"Y3Vyc29yOjEwMA==\") {\n",
      "                edges {\n",
      "                  node {\n",
      "                    ... on PullRequest {\n",
      "                      id\n",
      "                      number\n",
      "                      url\n",
      "                      title\n",
      "                      author {\n",
      "                        login\n",
      "                      }\n",
      "                      createdAt\n",
      "                      closedAt\n",
      "                      lastEditedAt\n",
      "                      state\n",
      "                      updatedAt\n",
      "                    }\n",
      "                  }\n",
      "                }\n",
      "                issueCount\n",
      "                pageInfo {\n",
      "                    startCursor\n",
      "                    hasNextPage\n",
      "                    endCursor\n",
      "                }\n",
      "              }\n",
      "            }\n",
      "            \n"
     ]
    }
   ],
   "source": [
    "search_filters = GitHubGraphQLSearchFilter(\n",
    "    search_type=\"pr\",\n",
    "    authors=[\n",
    "        \"xmnlab\",\n",
    "        \"pearu\",\n",
    "        \"IvanYashchuk\",\n",
    "        \"ysiraichi\",\n",
    "        \"hameerabbasi\"\n",
    "    ],\n",
    "    status=[\"closed\"]\n",
    ")\n",
    "results = await gh_search.search(search_filters)"
   ]
  },
  {
   "cell_type": "code",
   "execution_count": 228,
   "metadata": {},
   "outputs": [
    {
     "name": "stdout",
     "output_type": "stream",
     "text": [
      "123\n"
     ]
    }
   ],
   "source": [
    "print(len(results))"
   ]
  },
  {
   "cell_type": "markdown",
   "metadata": {},
   "source": [
    "### Only return specific members from `<repo>` (for PRs - this is who authored the PR, for Issues - this is who is assigned)"
   ]
  },
  {
   "cell_type": "code",
   "execution_count": null,
   "metadata": {},
   "outputs": [],
   "source": []
  },
  {
   "cell_type": "markdown",
   "metadata": {},
   "source": [
    "\n",
    "### What `<repo>` Issues are linked to each of these PRs?"
   ]
  },
  {
   "cell_type": "code",
   "execution_count": null,
   "metadata": {},
   "outputs": [],
   "source": []
  },
  {
   "cell_type": "markdown",
   "metadata": {},
   "source": [
    "## Refs"
   ]
  },
  {
   "cell_type": "markdown",
   "metadata": {},
   "source": [
    "* https://docs.github.com/en/graphql/guides/forming-calls-with-graphql#authenticating-with-graphql\n",
    "* https://github.com/graphql-python/gql\n",
    "* https://gql.readthedocs.io/en/latest/async/async_usage.html#async-usage"
   ]
  }
 ],
 "metadata": {
  "kernelspec": {
   "display_name": "Python 3",
   "language": "python",
   "name": "python3"
  },
  "language_info": {
   "codemirror_mode": {
    "name": "ipython",
    "version": 3
   },
   "file_extension": ".py",
   "mimetype": "text/x-python",
   "name": "python",
   "nbconvert_exporter": "python",
   "pygments_lexer": "ipython3",
   "version": "3.8.0"
  }
 },
 "nbformat": 4,
 "nbformat_minor": 4
}
